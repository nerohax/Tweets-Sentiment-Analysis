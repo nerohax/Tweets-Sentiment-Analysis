{
 "cells": [
  {
   "cell_type": "markdown",
   "metadata": {},
   "source": [
    "### <span style = 'color:green'> Capstone Project </span>\n",
    "#### <span style = 'color:blue'> Problem statement : Perform sentiment analysis on Omnicron variant, data fetching directly from twitter</span>\n",
    "**Sentiment analysis is the process of identifying feelings and emotions expressed in words, through ML or AI**\n",
    "\n",
    "**Project Pipeline**\n",
    "\n",
    "Various steps in completing project are\n",
    "\n",
    "- **Import Necessary Dependencies**\n",
    "- **Read and Load the Dataset**\n",
    "- **Exploratory Data Analysis**\n",
    "- **Data Visualization of Target Variables**\n",
    "- **Data Preprocessing**\n",
    "- **Splitting our data into Train and Test Subset**\n",
    "- **Transforming Dataset using TF-IDF Vectorizer**\n",
    "- **Function for Model Evaluation**\n",
    "- **Model Building**\n",
    "- **Conclusion**\n",
    "\n",
    "- Here we have to get dataset directly fetched from twitter in realtime \n",
    "\n",
    "- performing realtime sentimental analysis on realtime data collecting from twitter\n",
    "- objective: perform sentiment analysis on realtime data collected from twitter \n",
    "\n",
    "                      \n",
    "\n",
    "           "
   ]
  },
  {
   "cell_type": "markdown",
   "metadata": {},
   "source": [
    "### <span style = 'color:blue'>   API (Application Programm Interface)</span>\n",
    "- Imagine you’re sitting at a table in a restaurant with a menu of choices to order from. The kitchen is the part of the “system” that will prepare your order. What is missing is the critical link to communicate your order to the kitchen and deliver your food back to your table. That’s where the waiter or API comes in. The waiter is the messenger – or API – that takes your request or order and tells the kitchen – the system – what to do. Then the waiter delivers the response back to you; in this case, it is the food.\n",
    "- API's are huge and are used everywhere\n",
    "- In simple words api stands as bridge for one to access the content in one's storage \n",
    "- There are many APIs on the Twitter platform that software developers can engage with, with the ultimate possibility to create fully automated systems which will interact with Twitter. While this feature could benefit companies by drawing insights from Twitter data\n",
    "\n",
    "   **From twitter api it's possible to extract many insights some are**\n",
    "- Tweets: searching, posting, filtering, engagement, streaming etc.\n",
    "- Accounts and users (Beta): account management, user interactions.\n",
    "- Media: uploading and accessing photos, videos and animated GIFs.\n",
    "- Trends: trending topics in a given location.\n",
    "- Geo: information about known places or places near a location."
   ]
  },
  {
   "cell_type": "markdown",
   "metadata": {},
   "source": [
    "**Getting twitter API keys**\n",
    "- If you don't already have an account, you can login with your normal Twitter credentials \n",
    "\n",
    "\n",
    "- follow the required prompts to create a developer project or click here <a href=\"https://dev.twitter.com/apps\" title=\"Twitter\">Click here</a>\n",
    "- Requesting the API key and secret via the Developer Portal causes Twitter to produce the following three things:\n",
    "1. API key (this is your 'consumer key')\n",
    "2. API secret key (this is your 'consumer secret')\n",
    "3. Bearer token\n",
    "- Next, visit the 'Authentication Tokens' area of the Developer Portal and generate an 'Access token & secret'. This will provide you with the following two items:\n",
    "1. Access token (this is your 'token key')\n",
    "2. Access token secret (this is your 'token secret')\n",
    "\n",
    "\n",
    "**Expected output**\n",
    "- the data fetched from twitter should undergo EDA for analyzing, cleaning, handling, manupulation, visualization..,etc\n",
    "- final output should show the sentiment of the data\n"
   ]
  },
  {
   "cell_type": "markdown",
   "metadata": {},
   "source": [
    "  *Some tips to consider*\n",
    "\n",
    "- Machines can learn in every possible way so its always better to think out of the box\n",
    "    \n",
    "- Perform eda as diverse as possible and in contineous manner\n",
    "    \n",
    "- Try configuring with diffrent models to know how each model is diffrent with other ones \n",
    "    \n",
    "- Donot try to involve unneccesory codes and useless algorithms for dataset which just increases complexity\n",
    "    \n",
    "- Approaching problem statement in n number of ways helps us to find best one possible\n",
    "    \n",
    "- It's easier for one to understnd and manupulate if we have models as simple as possible \n",
    "    \n",
    "- When we have multiple models we can have multiple judgements based on models and their efficiencies\n",
    "    \n",
    "- Tuning helps increasing accuracy :)\n",
    "    \n",
    "- Have an idea of time consumed by the model, its better to have a model whose time management is good\n",
    "    \n",
    "- Spend good amount of time on analyzing dataset and draw as much insights as possible"
   ]
  },
  {
   "cell_type": "markdown",
   "metadata": {},
   "source": [
    "- Tweepy is importantlibrary we will using to fetch data from twitter by api\n",
    "\n",
    "\n",
    "For more on tweepy documentation please click here <a href=\"https://docs.tweepy.org/en/stable/getting_started.html#hello-tweepy\" title=\"Tweepy\">Click here</a>"
   ]
  },
  {
   "cell_type": "code",
   "execution_count": 1,
   "metadata": {},
   "outputs": [],
   "source": [
    "import numpy as np \n",
    "import matplotlib.pyplot as plt\n",
    "import pandas as pd\n",
    "import seaborn as sns\n",
    "import warnings as w\n",
    "w.filterwarnings('ignore')\n"
   ]
  },
  {
   "cell_type": "code",
   "execution_count": 2,
   "metadata": {},
   "outputs": [
    {
     "data": {
      "text/html": [
       "<div>\n",
       "<style scoped>\n",
       "    .dataframe tbody tr th:only-of-type {\n",
       "        vertical-align: middle;\n",
       "    }\n",
       "\n",
       "    .dataframe tbody tr th {\n",
       "        vertical-align: top;\n",
       "    }\n",
       "\n",
       "    .dataframe thead th {\n",
       "        text-align: right;\n",
       "    }\n",
       "</style>\n",
       "<table border=\"1\" class=\"dataframe\">\n",
       "  <thead>\n",
       "    <tr style=\"text-align: right;\">\n",
       "      <th></th>\n",
       "      <th>tweets</th>\n",
       "      <th>likes</th>\n",
       "      <th>time</th>\n",
       "      <th>retweet_count</th>\n",
       "    </tr>\n",
       "  </thead>\n",
       "  <tbody>\n",
       "    <tr>\n",
       "      <th>0</th>\n",
       "      <td>6 big questions about new Omicron-targeting bo...</td>\n",
       "      <td>0</td>\n",
       "      <td>2023-03-09 18:24:06</td>\n",
       "      <td>0</td>\n",
       "    </tr>\n",
       "    <tr>\n",
       "      <th>1</th>\n",
       "      <td>I'm confused https://t.co/NyfgdYUYAT</td>\n",
       "      <td>0</td>\n",
       "      <td>2023-03-09 18:23:43</td>\n",
       "      <td>0</td>\n",
       "    </tr>\n",
       "    <tr>\n",
       "      <th>2</th>\n",
       "      <td>Long COVID less likely after Omicron than afte...</td>\n",
       "      <td>0</td>\n",
       "      <td>2023-03-09 18:22:43</td>\n",
       "      <td>0</td>\n",
       "    </tr>\n",
       "    <tr>\n",
       "      <th>3</th>\n",
       "      <td>The finding don't tally with the high numbers ...</td>\n",
       "      <td>0</td>\n",
       "      <td>2023-03-09 18:21:45</td>\n",
       "      <td>0</td>\n",
       "    </tr>\n",
       "    <tr>\n",
       "      <th>4</th>\n",
       "      <td>A conference abstract from the European Congre...</td>\n",
       "      <td>1</td>\n",
       "      <td>2023-03-09 18:21:45</td>\n",
       "      <td>1</td>\n",
       "    </tr>\n",
       "  </tbody>\n",
       "</table>\n",
       "</div>"
      ],
      "text/plain": [
       "                                              tweets  likes  \\\n",
       "0  6 big questions about new Omicron-targeting bo...      0   \n",
       "1               I'm confused https://t.co/NyfgdYUYAT      0   \n",
       "2  Long COVID less likely after Omicron than afte...      0   \n",
       "3  The finding don't tally with the high numbers ...      0   \n",
       "4  A conference abstract from the European Congre...      1   \n",
       "\n",
       "                  time  retweet_count  \n",
       "0  2023-03-09 18:24:06              0  \n",
       "1  2023-03-09 18:23:43              0  \n",
       "2  2023-03-09 18:22:43              0  \n",
       "3  2023-03-09 18:21:45              0  \n",
       "4  2023-03-09 18:21:45              1  "
      ]
     },
     "execution_count": 2,
     "metadata": {},
     "output_type": "execute_result"
    }
   ],
   "source": [
    "df = pd.read_csv('Twitter_Omicron_data_1_1_1_1_1 (1) (1).csv')\n",
    "df.head()"
   ]
  },
  {
   "cell_type": "code",
   "execution_count": 3,
   "metadata": {},
   "outputs": [
    {
     "name": "stdout",
     "output_type": "stream",
     "text": [
      "<class 'pandas.core.frame.DataFrame'>\n",
      "RangeIndex: 6998 entries, 0 to 6997\n",
      "Data columns (total 4 columns):\n",
      " #   Column         Non-Null Count  Dtype \n",
      "---  ------         --------------  ----- \n",
      " 0   tweets         6998 non-null   object\n",
      " 1   likes          6998 non-null   int64 \n",
      " 2   time           6998 non-null   object\n",
      " 3   retweet_count  6998 non-null   int64 \n",
      "dtypes: int64(2), object(2)\n",
      "memory usage: 218.8+ KB\n"
     ]
    }
   ],
   "source": [
    "df.info()"
   ]
  },
  {
   "cell_type": "code",
   "execution_count": 4,
   "metadata": {},
   "outputs": [
    {
     "data": {
      "text/plain": [
       "(6998, 4)"
      ]
     },
     "execution_count": 4,
     "metadata": {},
     "output_type": "execute_result"
    }
   ],
   "source": [
    "df.shape"
   ]
  },
  {
   "cell_type": "markdown",
   "metadata": {},
   "source": [
    "Dropping the time column"
   ]
  },
  {
   "cell_type": "code",
   "execution_count": 5,
   "metadata": {},
   "outputs": [
    {
     "data": {
      "text/html": [
       "<div>\n",
       "<style scoped>\n",
       "    .dataframe tbody tr th:only-of-type {\n",
       "        vertical-align: middle;\n",
       "    }\n",
       "\n",
       "    .dataframe tbody tr th {\n",
       "        vertical-align: top;\n",
       "    }\n",
       "\n",
       "    .dataframe thead th {\n",
       "        text-align: right;\n",
       "    }\n",
       "</style>\n",
       "<table border=\"1\" class=\"dataframe\">\n",
       "  <thead>\n",
       "    <tr style=\"text-align: right;\">\n",
       "      <th></th>\n",
       "      <th>tweets</th>\n",
       "    </tr>\n",
       "  </thead>\n",
       "  <tbody>\n",
       "    <tr>\n",
       "      <th>0</th>\n",
       "      <td>6 big questions about new Omicron-targeting bo...</td>\n",
       "    </tr>\n",
       "    <tr>\n",
       "      <th>1</th>\n",
       "      <td>I'm confused https://t.co/NyfgdYUYAT</td>\n",
       "    </tr>\n",
       "    <tr>\n",
       "      <th>2</th>\n",
       "      <td>Long COVID less likely after Omicron than afte...</td>\n",
       "    </tr>\n",
       "    <tr>\n",
       "      <th>3</th>\n",
       "      <td>The finding don't tally with the high numbers ...</td>\n",
       "    </tr>\n",
       "    <tr>\n",
       "      <th>4</th>\n",
       "      <td>A conference abstract from the European Congre...</td>\n",
       "    </tr>\n",
       "    <tr>\n",
       "      <th>...</th>\n",
       "      <td>...</td>\n",
       "    </tr>\n",
       "    <tr>\n",
       "      <th>6993</th>\n",
       "      <td>@Cycl_Conscience @BallouxFrancois Your argumen...</td>\n",
       "    </tr>\n",
       "    <tr>\n",
       "      <th>6994</th>\n",
       "      <td>@BretWeinstein I don't think it escaped, they ...</td>\n",
       "    </tr>\n",
       "    <tr>\n",
       "      <th>6995</th>\n",
       "      <td>@_50kgold Do you have to show your face? I'd b...</td>\n",
       "    </tr>\n",
       "    <tr>\n",
       "      <th>6996</th>\n",
       "      <td>@noxcato @andrewtanyongyi @TAH_Sci @hsom113 @M...</td>\n",
       "    </tr>\n",
       "    <tr>\n",
       "      <th>6997</th>\n",
       "      <td>In light of the fact that #Omicron is unrelate...</td>\n",
       "    </tr>\n",
       "  </tbody>\n",
       "</table>\n",
       "<p>6998 rows × 1 columns</p>\n",
       "</div>"
      ],
      "text/plain": [
       "                                                 tweets\n",
       "0     6 big questions about new Omicron-targeting bo...\n",
       "1                  I'm confused https://t.co/NyfgdYUYAT\n",
       "2     Long COVID less likely after Omicron than afte...\n",
       "3     The finding don't tally with the high numbers ...\n",
       "4     A conference abstract from the European Congre...\n",
       "...                                                 ...\n",
       "6993  @Cycl_Conscience @BallouxFrancois Your argumen...\n",
       "6994  @BretWeinstein I don't think it escaped, they ...\n",
       "6995  @_50kgold Do you have to show your face? I'd b...\n",
       "6996  @noxcato @andrewtanyongyi @TAH_Sci @hsom113 @M...\n",
       "6997  In light of the fact that #Omicron is unrelate...\n",
       "\n",
       "[6998 rows x 1 columns]"
      ]
     },
     "execution_count": 5,
     "metadata": {},
     "output_type": "execute_result"
    }
   ],
   "source": [
    "df.drop(columns=['time','likes','retweet_count'], inplace=True)\n",
    "df"
   ]
  },
  {
   "cell_type": "code",
   "execution_count": 6,
   "metadata": {},
   "outputs": [
    {
     "data": {
      "text/plain": [
       "0       6 big questions about new Omicron-targeting bo...\n",
       "1                    I'm confused https://t.co/NyfgdYUYAT\n",
       "2       Long COVID less likely after Omicron than afte...\n",
       "3       The finding don't tally with the high numbers ...\n",
       "4       A conference abstract from the European Congre...\n",
       "                              ...                        \n",
       "6993    @Cycl_Conscience @BallouxFrancois Your argumen...\n",
       "6994    @BretWeinstein I don't think it escaped, they ...\n",
       "6995    @_50kgold Do you have to show your face? I'd b...\n",
       "6996    @noxcato @andrewtanyongyi @TAH_Sci @hsom113 @M...\n",
       "6997    In light of the fact that #Omicron is unrelate...\n",
       "Name: tweets, Length: 6998, dtype: object"
      ]
     },
     "execution_count": 6,
     "metadata": {},
     "output_type": "execute_result"
    }
   ],
   "source": [
    "df['tweets']"
   ]
  },
  {
   "cell_type": "code",
   "execution_count": 7,
   "metadata": {},
   "outputs": [
    {
     "name": "stderr",
     "output_type": "stream",
     "text": [
      "[nltk_data] Error loading stopwords: <urlopen error [Errno 11001]\n",
      "[nltk_data]     getaddrinfo failed>\n"
     ]
    },
    {
     "data": {
      "text/plain": [
       "False"
      ]
     },
     "execution_count": 7,
     "metadata": {},
     "output_type": "execute_result"
    }
   ],
   "source": [
    "import nltk\n",
    "nltk.download('stopwords')"
   ]
  },
  {
   "cell_type": "code",
   "execution_count": 8,
   "metadata": {},
   "outputs": [],
   "source": [
    "from nltk.tokenize.toktok import ToktokTokenizer\n",
    "from nltk.tokenize import word_tokenize, sent_tokenize\n",
    "tokenizer = ToktokTokenizer()\n",
    "stop_words = nltk.corpus.stopwords.words('english')"
   ]
  },
  {
   "cell_type": "code",
   "execution_count": 9,
   "metadata": {},
   "outputs": [
    {
     "name": "stderr",
     "output_type": "stream",
     "text": [
      "[nltk_data] Error loading wordnet: <urlopen error [Errno 11001]\n",
      "[nltk_data]     getaddrinfo failed>\n",
      "[nltk_data] Error loading omw-1.4: <urlopen error [Errno 11001]\n",
      "[nltk_data]     getaddrinfo failed>\n",
      "[nltk_data] Error loading punkt: <urlopen error [Errno 11001]\n",
      "[nltk_data]     getaddrinfo failed>\n"
     ]
    },
    {
     "data": {
      "text/plain": [
       "False"
      ]
     },
     "execution_count": 9,
     "metadata": {},
     "output_type": "execute_result"
    }
   ],
   "source": [
    "nltk.download('wordnet')\n",
    "nltk.download('omw-1.4')\n",
    "nltk.download('punkt')"
   ]
  },
  {
   "cell_type": "markdown",
   "metadata": {},
   "source": [
    "- Stemming:- words will be converted to root word but sometimes they don't have meaning\n",
    "- Lemmatization - words will be converted to root word and have meaning."
   ]
  },
  {
   "cell_type": "code",
   "execution_count": 10,
   "metadata": {},
   "outputs": [],
   "source": [
    "from nltk.stem.porter import PorterStemmer\n",
    "stemmer = PorterStemmer()"
   ]
  },
  {
   "cell_type": "code",
   "execution_count": 11,
   "metadata": {},
   "outputs": [],
   "source": [
    "from nltk.stem import WordNetLemmatizer\n",
    "lemma = WordNetLemmatizer()"
   ]
  },
  {
   "cell_type": "code",
   "execution_count": 29,
   "metadata": {},
   "outputs": [
    {
     "data": {
      "text/html": [
       "<div>\n",
       "<style scoped>\n",
       "    .dataframe tbody tr th:only-of-type {\n",
       "        vertical-align: middle;\n",
       "    }\n",
       "\n",
       "    .dataframe tbody tr th {\n",
       "        vertical-align: top;\n",
       "    }\n",
       "\n",
       "    .dataframe thead th {\n",
       "        text-align: right;\n",
       "    }\n",
       "</style>\n",
       "<table border=\"1\" class=\"dataframe\">\n",
       "  <thead>\n",
       "    <tr style=\"text-align: right;\">\n",
       "      <th></th>\n",
       "      <th>tweets</th>\n",
       "      <th>review</th>\n",
       "      <th>stemming</th>\n",
       "      <th>lemmatize</th>\n",
       "      <th>final_review</th>\n",
       "    </tr>\n",
       "  </thead>\n",
       "  <tbody>\n",
       "    <tr>\n",
       "      <th>0</th>\n",
       "      <td>6 big questions about new Omicron-targeting bo...</td>\n",
       "      <td>6 big questions about new Omicrontargeting boo...</td>\n",
       "      <td>6 big question about new omicrontarget booster...</td>\n",
       "      <td>6 big question about new Omicrontargeting boos...</td>\n",
       "      <td>6 big question new Omicrontargeting booster Bo...</td>\n",
       "    </tr>\n",
       "    <tr>\n",
       "      <th>1</th>\n",
       "      <td>I'm confused https://t.co/NyfgdYUYAT</td>\n",
       "      <td>Im confused</td>\n",
       "      <td>im confus http</td>\n",
       "      <td>Im confused http</td>\n",
       "      <td>Im confused http</td>\n",
       "    </tr>\n",
       "    <tr>\n",
       "      <th>2</th>\n",
       "      <td>Long COVID less likely after Omicron than afte...</td>\n",
       "      <td>Long COVID less likely after Omicron than afte...</td>\n",
       "      <td>long covid less like after omicron than after ...</td>\n",
       "      <td>Long COVID le likely after Omicron than after ...</td>\n",
       "      <td>Long COVID le likely Omicron original virus Sw...</td>\n",
       "    </tr>\n",
       "    <tr>\n",
       "      <th>3</th>\n",
       "      <td>The finding don't tally with the high numbers ...</td>\n",
       "      <td>The finding dont tally with the high numbers w...</td>\n",
       "      <td>the find dont talli with the high number we se...</td>\n",
       "      <td>The finding dont tally with the high number we...</td>\n",
       "      <td>finding dont tally high number see bulletin re...</td>\n",
       "    </tr>\n",
       "    <tr>\n",
       "      <th>4</th>\n",
       "      <td>A conference abstract from the European Congre...</td>\n",
       "      <td>A conference abstract from the European Congre...</td>\n",
       "      <td>a confer abstract from the european congress o...</td>\n",
       "      <td>A conference abstract from the European Congre...</td>\n",
       "      <td>conference abstract European Congress Clinical...</td>\n",
       "    </tr>\n",
       "    <tr>\n",
       "      <th>...</th>\n",
       "      <td>...</td>\n",
       "      <td>...</td>\n",
       "      <td>...</td>\n",
       "      <td>...</td>\n",
       "      <td>...</td>\n",
       "    </tr>\n",
       "    <tr>\n",
       "      <th>6993</th>\n",
       "      <td>@Cycl_Conscience @BallouxFrancois Your argumen...</td>\n",
       "      <td>Your argument is flawed Masks work We do kno...</td>\n",
       "      <td>your argument is flaw mask work we do know tha...</td>\n",
       "      <td>Your argument is flawed Masks work We do know ...</td>\n",
       "      <td>argument flawed Masks work know silver bullet ...</td>\n",
       "    </tr>\n",
       "    <tr>\n",
       "      <th>6994</th>\n",
       "      <td>@BretWeinstein I don't think it escaped, they ...</td>\n",
       "      <td>I dont think it escaped they opened the cell ...</td>\n",
       "      <td>i dont think it escap they open the cell door ...</td>\n",
       "      <td>I dont think it escaped they opened the cell d...</td>\n",
       "      <td>dont think escaped opened cell door wanted hap...</td>\n",
       "    </tr>\n",
       "    <tr>\n",
       "      <th>6995</th>\n",
       "      <td>@_50kgold Do you have to show your face? I'd b...</td>\n",
       "      <td>Do you have to show your face Id be running e...</td>\n",
       "      <td>do you have to show your face id be run errand...</td>\n",
       "      <td>Do you have to show your face Id be running er...</td>\n",
       "      <td>show face Id running errand gettin cut Chipotl...</td>\n",
       "    </tr>\n",
       "    <tr>\n",
       "      <th>6996</th>\n",
       "      <td>@noxcato @andrewtanyongyi @TAH_Sci @hsom113 @M...</td>\n",
       "      <td>That it all worked before DeltaOmicron is...</td>\n",
       "      <td>that it all work befor deltaomicron is the fal...</td>\n",
       "      <td>That it all worked before DeltaOmicron is the ...</td>\n",
       "      <td>worked DeltaOmicron fallback position losing a...</td>\n",
       "    </tr>\n",
       "    <tr>\n",
       "      <th>6997</th>\n",
       "      <td>In light of the fact that #Omicron is unrelate...</td>\n",
       "      <td>In light of the fact that Omicron is unrelated...</td>\n",
       "      <td>in light of the fact that omicron is unrel to ...</td>\n",
       "      <td>In light of the fact that Omicron is unrelated...</td>\n",
       "      <td>light fact Omicron unrelated Delta time revisi...</td>\n",
       "    </tr>\n",
       "  </tbody>\n",
       "</table>\n",
       "<p>6998 rows × 5 columns</p>\n",
       "</div>"
      ],
      "text/plain": [
       "                                                 tweets  \\\n",
       "0     6 big questions about new Omicron-targeting bo...   \n",
       "1                  I'm confused https://t.co/NyfgdYUYAT   \n",
       "2     Long COVID less likely after Omicron than afte...   \n",
       "3     The finding don't tally with the high numbers ...   \n",
       "4     A conference abstract from the European Congre...   \n",
       "...                                                 ...   \n",
       "6993  @Cycl_Conscience @BallouxFrancois Your argumen...   \n",
       "6994  @BretWeinstein I don't think it escaped, they ...   \n",
       "6995  @_50kgold Do you have to show your face? I'd b...   \n",
       "6996  @noxcato @andrewtanyongyi @TAH_Sci @hsom113 @M...   \n",
       "6997  In light of the fact that #Omicron is unrelate...   \n",
       "\n",
       "                                                 review  \\\n",
       "0     6 big questions about new Omicrontargeting boo...   \n",
       "1                                          Im confused    \n",
       "2     Long COVID less likely after Omicron than afte...   \n",
       "3     The finding dont tally with the high numbers w...   \n",
       "4     A conference abstract from the European Congre...   \n",
       "...                                                 ...   \n",
       "6993    Your argument is flawed Masks work We do kno...   \n",
       "6994   I dont think it escaped they opened the cell ...   \n",
       "6995   Do you have to show your face Id be running e...   \n",
       "6996       That it all worked before DeltaOmicron is...   \n",
       "6997  In light of the fact that Omicron is unrelated...   \n",
       "\n",
       "                                               stemming  \\\n",
       "0     6 big question about new omicrontarget booster...   \n",
       "1                                        im confus http   \n",
       "2     long covid less like after omicron than after ...   \n",
       "3     the find dont talli with the high number we se...   \n",
       "4     a confer abstract from the european congress o...   \n",
       "...                                                 ...   \n",
       "6993  your argument is flaw mask work we do know tha...   \n",
       "6994  i dont think it escap they open the cell door ...   \n",
       "6995  do you have to show your face id be run errand...   \n",
       "6996  that it all work befor deltaomicron is the fal...   \n",
       "6997  in light of the fact that omicron is unrel to ...   \n",
       "\n",
       "                                              lemmatize  \\\n",
       "0     6 big question about new Omicrontargeting boos...   \n",
       "1                                      Im confused http   \n",
       "2     Long COVID le likely after Omicron than after ...   \n",
       "3     The finding dont tally with the high number we...   \n",
       "4     A conference abstract from the European Congre...   \n",
       "...                                                 ...   \n",
       "6993  Your argument is flawed Masks work We do know ...   \n",
       "6994  I dont think it escaped they opened the cell d...   \n",
       "6995  Do you have to show your face Id be running er...   \n",
       "6996  That it all worked before DeltaOmicron is the ...   \n",
       "6997  In light of the fact that Omicron is unrelated...   \n",
       "\n",
       "                                           final_review  \n",
       "0     6 big question new Omicrontargeting booster Bo...  \n",
       "1                                      Im confused http  \n",
       "2     Long COVID le likely Omicron original virus Sw...  \n",
       "3     finding dont tally high number see bulletin re...  \n",
       "4     conference abstract European Congress Clinical...  \n",
       "...                                                 ...  \n",
       "6993  argument flawed Masks work know silver bullet ...  \n",
       "6994  dont think escaped opened cell door wanted hap...  \n",
       "6995  show face Id running errand gettin cut Chipotl...  \n",
       "6996  worked DeltaOmicron fallback position losing a...  \n",
       "6997  light fact Omicron unrelated Delta time revisi...  \n",
       "\n",
       "[6998 rows x 5 columns]"
      ]
     },
     "execution_count": 29,
     "metadata": {},
     "output_type": "execute_result"
    }
   ],
   "source": [
    "from bs4 import BeautifulSoup\n",
    "import re\n",
    "def remove_html(text):\n",
    "    return re.sub(r':.*$',\":\", text)\n",
    "\n",
    "def remove_tags(text):\n",
    "    return re.sub('@[A-Za-z0-9-]+([A-Z|a-z])','',text)\n",
    "\n",
    "def remove_mentions(text):\n",
    "    return re.sub(r'@\\w+', '', text)\n",
    "\n",
    "def strip_html(text):\n",
    "    soup = BeautifulSoup(text, 'html.parser')\n",
    "    return soup.get_text()\n",
    "\n",
    "def remove_links(text):\n",
    "     return re.sub(r'http\\S+|www\\S+', '', text)\n",
    "\n",
    "def remove_brackets(text):\n",
    "    return re.sub('\\[[^]]*\\]','',text)\n",
    "\n",
    "def remove_special_char(text, remove_digits=True):\n",
    "    return re.sub(r'[^a-zA-Z0-9\\s]','', text)\n",
    "\n",
    "def denoise_text(text):\n",
    "    text = remove_mentions(text)\n",
    "    text = remove_links(text)\n",
    "    text = remove_html(text)\n",
    "    text = remove_brackets(text)\n",
    "    text = remove_tags(text)\n",
    "    text = strip_html(text)\n",
    "    text = remove_special_char(text)\n",
    "    return text\n",
    "\n",
    "df['review'] = df.tweets.apply(denoise_text)\n",
    "df"
   ]
  },
  {
   "cell_type": "code",
   "execution_count": 30,
   "metadata": {},
   "outputs": [],
   "source": [
    "#stemming\n",
    "def stemming(text):\n",
    "    ps = nltk.porter.PorterStemmer()\n",
    "    text = ' '.join([ps.stem(word) for word in text.split()])\n",
    "    return text\n",
    "\n",
    "df['stemming'] = df['review'].apply(stemming)\n"
   ]
  },
  {
   "cell_type": "code",
   "execution_count": 31,
   "metadata": {},
   "outputs": [
    {
     "data": {
      "text/html": [
       "<div>\n",
       "<style scoped>\n",
       "    .dataframe tbody tr th:only-of-type {\n",
       "        vertical-align: middle;\n",
       "    }\n",
       "\n",
       "    .dataframe tbody tr th {\n",
       "        vertical-align: top;\n",
       "    }\n",
       "\n",
       "    .dataframe thead th {\n",
       "        text-align: right;\n",
       "    }\n",
       "</style>\n",
       "<table border=\"1\" class=\"dataframe\">\n",
       "  <thead>\n",
       "    <tr style=\"text-align: right;\">\n",
       "      <th></th>\n",
       "      <th>tweets</th>\n",
       "      <th>review</th>\n",
       "      <th>stemming</th>\n",
       "      <th>lemmatize</th>\n",
       "      <th>final_review</th>\n",
       "    </tr>\n",
       "  </thead>\n",
       "  <tbody>\n",
       "    <tr>\n",
       "      <th>0</th>\n",
       "      <td>6 big questions about new Omicron-targeting bo...</td>\n",
       "      <td>6 big questions about new Omicrontargeting boo...</td>\n",
       "      <td>6 big question about new omicrontarget booster...</td>\n",
       "      <td>6 big question about new Omicrontargeting boos...</td>\n",
       "      <td>6 big question new Omicrontargeting booster Bo...</td>\n",
       "    </tr>\n",
       "    <tr>\n",
       "      <th>1</th>\n",
       "      <td>I'm confused https://t.co/NyfgdYUYAT</td>\n",
       "      <td>Im confused</td>\n",
       "      <td>im confus</td>\n",
       "      <td>Im confused</td>\n",
       "      <td>Im confused http</td>\n",
       "    </tr>\n",
       "    <tr>\n",
       "      <th>2</th>\n",
       "      <td>Long COVID less likely after Omicron than afte...</td>\n",
       "      <td>Long COVID less likely after Omicron than afte...</td>\n",
       "      <td>long covid less like after omicron than after ...</td>\n",
       "      <td>Long COVID le likely after Omicron than after ...</td>\n",
       "      <td>Long COVID le likely Omicron original virus Sw...</td>\n",
       "    </tr>\n",
       "    <tr>\n",
       "      <th>3</th>\n",
       "      <td>The finding don't tally with the high numbers ...</td>\n",
       "      <td>The finding dont tally with the high numbers w...</td>\n",
       "      <td>the find dont talli with the high number we se...</td>\n",
       "      <td>The finding dont tally with the high number we...</td>\n",
       "      <td>finding dont tally high number see bulletin re...</td>\n",
       "    </tr>\n",
       "    <tr>\n",
       "      <th>4</th>\n",
       "      <td>A conference abstract from the European Congre...</td>\n",
       "      <td>A conference abstract from the European Congre...</td>\n",
       "      <td>a confer abstract from the european congress o...</td>\n",
       "      <td>A conference abstract from the European Congre...</td>\n",
       "      <td>conference abstract European Congress Clinical...</td>\n",
       "    </tr>\n",
       "  </tbody>\n",
       "</table>\n",
       "</div>"
      ],
      "text/plain": [
       "                                              tweets  \\\n",
       "0  6 big questions about new Omicron-targeting bo...   \n",
       "1               I'm confused https://t.co/NyfgdYUYAT   \n",
       "2  Long COVID less likely after Omicron than afte...   \n",
       "3  The finding don't tally with the high numbers ...   \n",
       "4  A conference abstract from the European Congre...   \n",
       "\n",
       "                                              review  \\\n",
       "0  6 big questions about new Omicrontargeting boo...   \n",
       "1                                       Im confused    \n",
       "2  Long COVID less likely after Omicron than afte...   \n",
       "3  The finding dont tally with the high numbers w...   \n",
       "4  A conference abstract from the European Congre...   \n",
       "\n",
       "                                            stemming  \\\n",
       "0  6 big question about new omicrontarget booster...   \n",
       "1                                          im confus   \n",
       "2  long covid less like after omicron than after ...   \n",
       "3  the find dont talli with the high number we se...   \n",
       "4  a confer abstract from the european congress o...   \n",
       "\n",
       "                                           lemmatize  \\\n",
       "0  6 big question about new Omicrontargeting boos...   \n",
       "1                                        Im confused   \n",
       "2  Long COVID le likely after Omicron than after ...   \n",
       "3  The finding dont tally with the high number we...   \n",
       "4  A conference abstract from the European Congre...   \n",
       "\n",
       "                                        final_review  \n",
       "0  6 big question new Omicrontargeting booster Bo...  \n",
       "1                                   Im confused http  \n",
       "2  Long COVID le likely Omicron original virus Sw...  \n",
       "3  finding dont tally high number see bulletin re...  \n",
       "4  conference abstract European Congress Clinical...  "
      ]
     },
     "execution_count": 31,
     "metadata": {},
     "output_type": "execute_result"
    }
   ],
   "source": [
    "# lemmatize\n",
    "def lemmatize(text):\n",
    "    lz = nltk.stem.WordNetLemmatizer()\n",
    "    text = ' '.join([lz.lemmatize(word) for word in text.split()])\n",
    "    return text \n",
    "\n",
    "df['lemmatize'] = df['review'].apply(lemmatize)\n",
    "df.head()"
   ]
  },
  {
   "cell_type": "code",
   "execution_count": 34,
   "metadata": {},
   "outputs": [
    {
     "data": {
      "text/html": [
       "<div>\n",
       "<style scoped>\n",
       "    .dataframe tbody tr th:only-of-type {\n",
       "        vertical-align: middle;\n",
       "    }\n",
       "\n",
       "    .dataframe tbody tr th {\n",
       "        vertical-align: top;\n",
       "    }\n",
       "\n",
       "    .dataframe thead th {\n",
       "        text-align: right;\n",
       "    }\n",
       "</style>\n",
       "<table border=\"1\" class=\"dataframe\">\n",
       "  <thead>\n",
       "    <tr style=\"text-align: right;\">\n",
       "      <th></th>\n",
       "      <th>tweets</th>\n",
       "      <th>review</th>\n",
       "      <th>stemming</th>\n",
       "      <th>lemmatize</th>\n",
       "      <th>final_review</th>\n",
       "    </tr>\n",
       "  </thead>\n",
       "  <tbody>\n",
       "    <tr>\n",
       "      <th>0</th>\n",
       "      <td>6 big questions about new Omicron-targeting bo...</td>\n",
       "      <td>6 big questions about new Omicrontargeting boo...</td>\n",
       "      <td>6 big question about new omicrontarget booster...</td>\n",
       "      <td>6 big question about new Omicrontargeting boos...</td>\n",
       "      <td>6 big questions new Omicrontargeting boosters ...</td>\n",
       "    </tr>\n",
       "    <tr>\n",
       "      <th>1</th>\n",
       "      <td>I'm confused https://t.co/NyfgdYUYAT</td>\n",
       "      <td>Im confused</td>\n",
       "      <td>im confus</td>\n",
       "      <td>Im confused</td>\n",
       "      <td>Im confused</td>\n",
       "    </tr>\n",
       "    <tr>\n",
       "      <th>2</th>\n",
       "      <td>Long COVID less likely after Omicron than afte...</td>\n",
       "      <td>Long COVID less likely after Omicron than afte...</td>\n",
       "      <td>long covid less like after omicron than after ...</td>\n",
       "      <td>Long COVID le likely after Omicron than after ...</td>\n",
       "      <td>Long COVID less likely Omicron original virus ...</td>\n",
       "    </tr>\n",
       "    <tr>\n",
       "      <th>3</th>\n",
       "      <td>The finding don't tally with the high numbers ...</td>\n",
       "      <td>The finding dont tally with the high numbers w...</td>\n",
       "      <td>the find dont talli with the high number we se...</td>\n",
       "      <td>The finding dont tally with the high number we...</td>\n",
       "      <td>finding dont tally high numbers see bulletins ...</td>\n",
       "    </tr>\n",
       "    <tr>\n",
       "      <th>4</th>\n",
       "      <td>A conference abstract from the European Congre...</td>\n",
       "      <td>A conference abstract from the European Congre...</td>\n",
       "      <td>a confer abstract from the european congress o...</td>\n",
       "      <td>A conference abstract from the European Congre...</td>\n",
       "      <td>conference abstract European Congress Clinical...</td>\n",
       "    </tr>\n",
       "    <tr>\n",
       "      <th>...</th>\n",
       "      <td>...</td>\n",
       "      <td>...</td>\n",
       "      <td>...</td>\n",
       "      <td>...</td>\n",
       "      <td>...</td>\n",
       "    </tr>\n",
       "    <tr>\n",
       "      <th>6993</th>\n",
       "      <td>@Cycl_Conscience @BallouxFrancois Your argumen...</td>\n",
       "      <td>Your argument is flawed Masks work We do kno...</td>\n",
       "      <td>your argument is flaw mask work we do know tha...</td>\n",
       "      <td>Your argument is flawed Masks work We do know ...</td>\n",
       "      <td>argument flawed Masks work know silver bullet ...</td>\n",
       "    </tr>\n",
       "    <tr>\n",
       "      <th>6994</th>\n",
       "      <td>@BretWeinstein I don't think it escaped, they ...</td>\n",
       "      <td>I dont think it escaped they opened the cell ...</td>\n",
       "      <td>i dont think it escap they open the cell door ...</td>\n",
       "      <td>I dont think it escaped they opened the cell d...</td>\n",
       "      <td>dont think escaped opened cell door wanted hap...</td>\n",
       "    </tr>\n",
       "    <tr>\n",
       "      <th>6995</th>\n",
       "      <td>@_50kgold Do you have to show your face? I'd b...</td>\n",
       "      <td>Do you have to show your face Id be running e...</td>\n",
       "      <td>do you have to show your face id be run errand...</td>\n",
       "      <td>Do you have to show your face Id be running er...</td>\n",
       "      <td>show face Id running errands gettin cut Chipot...</td>\n",
       "    </tr>\n",
       "    <tr>\n",
       "      <th>6996</th>\n",
       "      <td>@noxcato @andrewtanyongyi @TAH_Sci @hsom113 @M...</td>\n",
       "      <td>That it all worked before DeltaOmicron is...</td>\n",
       "      <td>that it all work befor deltaomicron is the fal...</td>\n",
       "      <td>That it all worked before DeltaOmicron is the ...</td>\n",
       "      <td>worked DeltaOmicron fallback position losing a...</td>\n",
       "    </tr>\n",
       "    <tr>\n",
       "      <th>6997</th>\n",
       "      <td>In light of the fact that #Omicron is unrelate...</td>\n",
       "      <td>In light of the fact that Omicron is unrelated...</td>\n",
       "      <td>in light of the fact that omicron is unrel to ...</td>\n",
       "      <td>In light of the fact that Omicron is unrelated...</td>\n",
       "      <td>light fact Omicron unrelated Delta time revisi...</td>\n",
       "    </tr>\n",
       "  </tbody>\n",
       "</table>\n",
       "<p>6998 rows × 5 columns</p>\n",
       "</div>"
      ],
      "text/plain": [
       "                                                 tweets  \\\n",
       "0     6 big questions about new Omicron-targeting bo...   \n",
       "1                  I'm confused https://t.co/NyfgdYUYAT   \n",
       "2     Long COVID less likely after Omicron than afte...   \n",
       "3     The finding don't tally with the high numbers ...   \n",
       "4     A conference abstract from the European Congre...   \n",
       "...                                                 ...   \n",
       "6993  @Cycl_Conscience @BallouxFrancois Your argumen...   \n",
       "6994  @BretWeinstein I don't think it escaped, they ...   \n",
       "6995  @_50kgold Do you have to show your face? I'd b...   \n",
       "6996  @noxcato @andrewtanyongyi @TAH_Sci @hsom113 @M...   \n",
       "6997  In light of the fact that #Omicron is unrelate...   \n",
       "\n",
       "                                                 review  \\\n",
       "0     6 big questions about new Omicrontargeting boo...   \n",
       "1                                          Im confused    \n",
       "2     Long COVID less likely after Omicron than afte...   \n",
       "3     The finding dont tally with the high numbers w...   \n",
       "4     A conference abstract from the European Congre...   \n",
       "...                                                 ...   \n",
       "6993    Your argument is flawed Masks work We do kno...   \n",
       "6994   I dont think it escaped they opened the cell ...   \n",
       "6995   Do you have to show your face Id be running e...   \n",
       "6996       That it all worked before DeltaOmicron is...   \n",
       "6997  In light of the fact that Omicron is unrelated...   \n",
       "\n",
       "                                               stemming  \\\n",
       "0     6 big question about new omicrontarget booster...   \n",
       "1                                             im confus   \n",
       "2     long covid less like after omicron than after ...   \n",
       "3     the find dont talli with the high number we se...   \n",
       "4     a confer abstract from the european congress o...   \n",
       "...                                                 ...   \n",
       "6993  your argument is flaw mask work we do know tha...   \n",
       "6994  i dont think it escap they open the cell door ...   \n",
       "6995  do you have to show your face id be run errand...   \n",
       "6996  that it all work befor deltaomicron is the fal...   \n",
       "6997  in light of the fact that omicron is unrel to ...   \n",
       "\n",
       "                                              lemmatize  \\\n",
       "0     6 big question about new Omicrontargeting boos...   \n",
       "1                                           Im confused   \n",
       "2     Long COVID le likely after Omicron than after ...   \n",
       "3     The finding dont tally with the high number we...   \n",
       "4     A conference abstract from the European Congre...   \n",
       "...                                                 ...   \n",
       "6993  Your argument is flawed Masks work We do know ...   \n",
       "6994  I dont think it escaped they opened the cell d...   \n",
       "6995  Do you have to show your face Id be running er...   \n",
       "6996  That it all worked before DeltaOmicron is the ...   \n",
       "6997  In light of the fact that Omicron is unrelated...   \n",
       "\n",
       "                                           final_review  \n",
       "0     6 big questions new Omicrontargeting boosters ...  \n",
       "1                                           Im confused  \n",
       "2     Long COVID less likely Omicron original virus ...  \n",
       "3     finding dont tally high numbers see bulletins ...  \n",
       "4     conference abstract European Congress Clinical...  \n",
       "...                                                 ...  \n",
       "6993  argument flawed Masks work know silver bullet ...  \n",
       "6994  dont think escaped opened cell door wanted hap...  \n",
       "6995  show face Id running errands gettin cut Chipot...  \n",
       "6996  worked DeltaOmicron fallback position losing a...  \n",
       "6997  light fact Omicron unrelated Delta time revisi...  \n",
       "\n",
       "[6998 rows x 5 columns]"
      ]
     },
     "execution_count": 34,
     "metadata": {},
     "output_type": "execute_result"
    }
   ],
   "source": [
    "def remove_stopwords(text,is_lower_case=False):\n",
    "    tokens = tokenizer.tokenize(text)\n",
    "    tokens = [token.strip() for token in tokens]\n",
    "    if is_lower_case:\n",
    "        filtered_tokens = [token for token in tokens if token not in stop_words]\n",
    "    else:\n",
    "        filtered_tokens = [token for token in tokens if token.lower() not in stop_words]\n",
    "    filtered_text = ' '.join(filtered_tokens)\n",
    "    return filtered_text\n",
    "\n",
    "df['final_review'] = df['review'].apply(remove_stopwords)\n",
    "df"
   ]
  },
  {
   "cell_type": "code",
   "execution_count": 35,
   "metadata": {},
   "outputs": [
    {
     "data": {
      "text/plain": [
       "(6998, 5)"
      ]
     },
     "execution_count": 35,
     "metadata": {},
     "output_type": "execute_result"
    }
   ],
   "source": [
    "df.shape"
   ]
  },
  {
   "cell_type": "code",
   "execution_count": 37,
   "metadata": {},
   "outputs": [],
   "source": [
    "train = df.final_review[:5250]\n",
    "test = df.final_review[5250:]"
   ]
  },
  {
   "cell_type": "code",
   "execution_count": 39,
   "metadata": {
    "scrolled": true
   },
   "outputs": [
    {
     "name": "stdout",
     "output_type": "stream",
     "text": [
      "BOW Train: (5250, 114426)\n",
      "BOW Test: (1748, 114426)\n"
     ]
    }
   ],
   "source": [
    "#bag of words\n",
    "from sklearn.feature_extraction.text import CountVectorizer, TfidfVectorizer\n",
    "cv = CountVectorizer(min_df=0.0,max_df=1, binary=False, ngram_range=(1,3))\n",
    "cv_train = cv.fit_transform(train)\n",
    "cv_test = cv.transform(test)\n",
    "\n",
    "print(\"BOW Train:\", cv_train.shape)\n",
    "print(\"BOW Test:\", cv_test.shape)"
   ]
  },
  {
   "cell_type": "code",
   "execution_count": 40,
   "metadata": {},
   "outputs": [
    {
     "name": "stdout",
     "output_type": "stream",
     "text": [
      "TFIDF Train: (5250, 114426)\n",
      "TFIDF Test: (1748, 114426)\n"
     ]
    }
   ],
   "source": [
    "#tfidf\n",
    "tf = TfidfVectorizer(min_df=0.0, max_df=1, use_idf=True, ngram_range=(1,3))\n",
    "tf_train = tf.fit_transform(train)\n",
    "tf_test = tf.transform(test)\n",
    "\n",
    "print(\"TFIDF Train:\", tf_train.shape)\n",
    "print(\"TFIDF Test:\", tf_test.shape)"
   ]
  },
  {
   "cell_type": "markdown",
   "metadata": {},
   "source": [
    "- Polarity:\n",
    "Measures the sentiment of the text.\n",
    "- Negative value: Negative sentiment.\n",
    "- Positive value: Positive sentiment.\n",
    "- Zero: Neutral sentiment.\n"
   ]
  },
  {
   "cell_type": "markdown",
   "metadata": {},
   "source": [
    "- Subjectivity:\n",
    "Measures the degree of personal opinion or bias in the text.\n",
    "0: Fully objective (fact-based).\n",
    "1: Fully subjective (opinion-based)."
   ]
  },
  {
   "cell_type": "code",
   "execution_count": 46,
   "metadata": {},
   "outputs": [],
   "source": [
    "#Polarity and subjectivity\n",
    "from textblob import TextBlob, Word\n",
    "polar = lambda x: TextBlob(x).sentiment.polarity\n",
    "subject = lambda x: TextBlob(x).sentiment.subjectivity\n",
    "\n",
    "df['Polarity'] = df['final_review'].apply(polar)\n",
    "df['Subjectivity'] = df['final_review'].apply(subject)"
   ]
  },
  {
   "cell_type": "code",
   "execution_count": 47,
   "metadata": {},
   "outputs": [
    {
     "data": {
      "text/html": [
       "<div>\n",
       "<style scoped>\n",
       "    .dataframe tbody tr th:only-of-type {\n",
       "        vertical-align: middle;\n",
       "    }\n",
       "\n",
       "    .dataframe tbody tr th {\n",
       "        vertical-align: top;\n",
       "    }\n",
       "\n",
       "    .dataframe thead th {\n",
       "        text-align: right;\n",
       "    }\n",
       "</style>\n",
       "<table border=\"1\" class=\"dataframe\">\n",
       "  <thead>\n",
       "    <tr style=\"text-align: right;\">\n",
       "      <th></th>\n",
       "      <th>tweets</th>\n",
       "      <th>review</th>\n",
       "      <th>stemming</th>\n",
       "      <th>lemmatize</th>\n",
       "      <th>final_review</th>\n",
       "      <th>Polarity</th>\n",
       "      <th>Subjectivity</th>\n",
       "      <th>tokenize</th>\n",
       "    </tr>\n",
       "  </thead>\n",
       "  <tbody>\n",
       "    <tr>\n",
       "      <th>0</th>\n",
       "      <td>6 big questions about new Omicron-targeting bo...</td>\n",
       "      <td>6 big questions about new Omicrontargeting boo...</td>\n",
       "      <td>6 big question about new omicrontarget booster...</td>\n",
       "      <td>6 big question about new Omicrontargeting boos...</td>\n",
       "      <td>6 big questions new Omicrontargeting boosters ...</td>\n",
       "      <td>0.068182</td>\n",
       "      <td>0.277273</td>\n",
       "      <td>[6, big, questions, new, Omicrontargeting, boo...</td>\n",
       "    </tr>\n",
       "    <tr>\n",
       "      <th>1</th>\n",
       "      <td>I'm confused https://t.co/NyfgdYUYAT</td>\n",
       "      <td>Im confused</td>\n",
       "      <td>im confus</td>\n",
       "      <td>Im confused</td>\n",
       "      <td>Im confused</td>\n",
       "      <td>-0.400000</td>\n",
       "      <td>0.700000</td>\n",
       "      <td>[Im, confused]</td>\n",
       "    </tr>\n",
       "    <tr>\n",
       "      <th>2</th>\n",
       "      <td>Long COVID less likely after Omicron than afte...</td>\n",
       "      <td>Long COVID less likely after Omicron than afte...</td>\n",
       "      <td>long covid less like after omicron than after ...</td>\n",
       "      <td>Long COVID le likely after Omicron than after ...</td>\n",
       "      <td>Long COVID less likely Omicron original virus ...</td>\n",
       "      <td>0.039583</td>\n",
       "      <td>0.554167</td>\n",
       "      <td>[Long, COVID, less, likely, Omicron, original,...</td>\n",
       "    </tr>\n",
       "    <tr>\n",
       "      <th>3</th>\n",
       "      <td>The finding don't tally with the high numbers ...</td>\n",
       "      <td>The finding dont tally with the high numbers w...</td>\n",
       "      <td>the find dont talli with the high number we se...</td>\n",
       "      <td>The finding dont tally with the high number we...</td>\n",
       "      <td>finding dont tally high numbers see bulletins ...</td>\n",
       "      <td>0.160000</td>\n",
       "      <td>0.540000</td>\n",
       "      <td>[finding, dont, tally, high, numbers, see, bul...</td>\n",
       "    </tr>\n",
       "    <tr>\n",
       "      <th>4</th>\n",
       "      <td>A conference abstract from the European Congre...</td>\n",
       "      <td>A conference abstract from the European Congre...</td>\n",
       "      <td>a confer abstract from the european congress o...</td>\n",
       "      <td>A conference abstract from the European Congre...</td>\n",
       "      <td>conference abstract European Congress Clinical...</td>\n",
       "      <td>-0.083333</td>\n",
       "      <td>0.033333</td>\n",
       "      <td>[conference, abstract, European, Congress, Cli...</td>\n",
       "    </tr>\n",
       "  </tbody>\n",
       "</table>\n",
       "</div>"
      ],
      "text/plain": [
       "                                              tweets  \\\n",
       "0  6 big questions about new Omicron-targeting bo...   \n",
       "1               I'm confused https://t.co/NyfgdYUYAT   \n",
       "2  Long COVID less likely after Omicron than afte...   \n",
       "3  The finding don't tally with the high numbers ...   \n",
       "4  A conference abstract from the European Congre...   \n",
       "\n",
       "                                              review  \\\n",
       "0  6 big questions about new Omicrontargeting boo...   \n",
       "1                                       Im confused    \n",
       "2  Long COVID less likely after Omicron than afte...   \n",
       "3  The finding dont tally with the high numbers w...   \n",
       "4  A conference abstract from the European Congre...   \n",
       "\n",
       "                                            stemming  \\\n",
       "0  6 big question about new omicrontarget booster...   \n",
       "1                                          im confus   \n",
       "2  long covid less like after omicron than after ...   \n",
       "3  the find dont talli with the high number we se...   \n",
       "4  a confer abstract from the european congress o...   \n",
       "\n",
       "                                           lemmatize  \\\n",
       "0  6 big question about new Omicrontargeting boos...   \n",
       "1                                        Im confused   \n",
       "2  Long COVID le likely after Omicron than after ...   \n",
       "3  The finding dont tally with the high number we...   \n",
       "4  A conference abstract from the European Congre...   \n",
       "\n",
       "                                        final_review  Polarity  Subjectivity  \\\n",
       "0  6 big questions new Omicrontargeting boosters ...  0.068182      0.277273   \n",
       "1                                        Im confused -0.400000      0.700000   \n",
       "2  Long COVID less likely Omicron original virus ...  0.039583      0.554167   \n",
       "3  finding dont tally high numbers see bulletins ...  0.160000      0.540000   \n",
       "4  conference abstract European Congress Clinical... -0.083333      0.033333   \n",
       "\n",
       "                                            tokenize  \n",
       "0  [6, big, questions, new, Omicrontargeting, boo...  \n",
       "1                                     [Im, confused]  \n",
       "2  [Long, COVID, less, likely, Omicron, original,...  \n",
       "3  [finding, dont, tally, high, numbers, see, bul...  \n",
       "4  [conference, abstract, European, Congress, Cli...  "
      ]
     },
     "execution_count": 47,
     "metadata": {},
     "output_type": "execute_result"
    }
   ],
   "source": [
    "#most common words \n",
    "\n",
    "tok = lambda x: word_tokenize(x)\n",
    "df['tokenize'] = df['final_review'].apply(tok)\n",
    "df.head()"
   ]
  },
  {
   "cell_type": "code",
   "execution_count": 48,
   "metadata": {},
   "outputs": [],
   "source": [
    "import itertools, collections\n",
    "new_tokenize = df['tokenize']\n",
    "all_words = list(itertools.chain(*new_tokenize))\n"
   ]
  },
  {
   "cell_type": "code",
   "execution_count": 49,
   "metadata": {},
   "outputs": [
    {
     "data": {
      "text/html": [
       "<div>\n",
       "<style scoped>\n",
       "    .dataframe tbody tr th:only-of-type {\n",
       "        vertical-align: middle;\n",
       "    }\n",
       "\n",
       "    .dataframe tbody tr th {\n",
       "        vertical-align: top;\n",
       "    }\n",
       "\n",
       "    .dataframe thead th {\n",
       "        text-align: right;\n",
       "    }\n",
       "</style>\n",
       "<table border=\"1\" class=\"dataframe\">\n",
       "  <thead>\n",
       "    <tr style=\"text-align: right;\">\n",
       "      <th></th>\n",
       "      <th>words</th>\n",
       "      <th>count</th>\n",
       "    </tr>\n",
       "  </thead>\n",
       "  <tbody>\n",
       "    <tr>\n",
       "      <th>0</th>\n",
       "      <td>Omicron</td>\n",
       "      <td>4308</td>\n",
       "    </tr>\n",
       "    <tr>\n",
       "      <th>1</th>\n",
       "      <td>omicron</td>\n",
       "      <td>1836</td>\n",
       "    </tr>\n",
       "    <tr>\n",
       "      <th>2</th>\n",
       "      <td>variant</td>\n",
       "      <td>817</td>\n",
       "    </tr>\n",
       "    <tr>\n",
       "      <th>3</th>\n",
       "      <td>people</td>\n",
       "      <td>576</td>\n",
       "    </tr>\n",
       "    <tr>\n",
       "      <th>4</th>\n",
       "      <td>vaccine</td>\n",
       "      <td>555</td>\n",
       "    </tr>\n",
       "  </tbody>\n",
       "</table>\n",
       "</div>"
      ],
      "text/plain": [
       "     words  count\n",
       "0  Omicron   4308\n",
       "1  omicron   1836\n",
       "2  variant    817\n",
       "3   people    576\n",
       "4  vaccine    555"
      ]
     },
     "execution_count": 49,
     "metadata": {},
     "output_type": "execute_result"
    }
   ],
   "source": [
    "counts = collections.Counter(all_words)\n",
    "counts_freq = counts.most_common(200)\n",
    "\n",
    "clean_tweets = pd.DataFrame(counts.most_common(200), columns=['words','count'])\n",
    "clean_tweets.head()"
   ]
  },
  {
   "cell_type": "code",
   "execution_count": 52,
   "metadata": {},
   "outputs": [
    {
     "data": {
      "text/plain": [
       "<Figure size 800x800 with 0 Axes>"
      ]
     },
     "metadata": {},
     "output_type": "display_data"
    },
    {
     "data": {
      "image/png": "[encoded data removed]",
      "text/plain": [
       "<Figure size 640x480 with 1 Axes>"
      ]
     },
     "metadata": {},
     "output_type": "display_data"
    }
   ],
   "source": [
    "plt.figure(figsize=(8,8))\n",
    "clean_tweets[:25].sort_values(by='count').plot.barh(x='words', y='count')\n",
    "plt.show()"
   ]
  },
  {
   "cell_type": "code",
   "execution_count": 53,
   "metadata": {},
   "outputs": [
    {
     "data": {
      "text/html": [
       "<div>\n",
       "<style scoped>\n",
       "    .dataframe tbody tr th:only-of-type {\n",
       "        vertical-align: middle;\n",
       "    }\n",
       "\n",
       "    .dataframe tbody tr th {\n",
       "        vertical-align: top;\n",
       "    }\n",
       "\n",
       "    .dataframe thead th {\n",
       "        text-align: right;\n",
       "    }\n",
       "</style>\n",
       "<table border=\"1\" class=\"dataframe\">\n",
       "  <thead>\n",
       "    <tr style=\"text-align: right;\">\n",
       "      <th></th>\n",
       "      <th>text</th>\n",
       "      <th>Polarity</th>\n",
       "    </tr>\n",
       "  </thead>\n",
       "  <tbody>\n",
       "    <tr>\n",
       "      <th>0</th>\n",
       "      <td>6 big questions new Omicrontargeting boosters ...</td>\n",
       "      <td>Positive</td>\n",
       "    </tr>\n",
       "    <tr>\n",
       "      <th>1</th>\n",
       "      <td>Im confused</td>\n",
       "      <td>Negative</td>\n",
       "    </tr>\n",
       "    <tr>\n",
       "      <th>2</th>\n",
       "      <td>Long COVID less likely Omicron original virus ...</td>\n",
       "      <td>Neutral</td>\n",
       "    </tr>\n",
       "    <tr>\n",
       "      <th>3</th>\n",
       "      <td>finding dont tally high numbers see bulletins ...</td>\n",
       "      <td>Positive</td>\n",
       "    </tr>\n",
       "    <tr>\n",
       "      <th>4</th>\n",
       "      <td>conference abstract European Congress Clinical...</td>\n",
       "      <td>Negative</td>\n",
       "    </tr>\n",
       "  </tbody>\n",
       "</table>\n",
       "</div>"
      ],
      "text/plain": [
       "                                                text  Polarity\n",
       "0  6 big questions new Omicrontargeting boosters ...  Positive\n",
       "1                                        Im confused  Negative\n",
       "2  Long COVID less likely Omicron original virus ...   Neutral\n",
       "3  finding dont tally high numbers see bulletins ...  Positive\n",
       "4  conference abstract European Congress Clinical...  Negative"
      ]
     },
     "execution_count": 53,
     "metadata": {},
     "output_type": "execute_result"
    }
   ],
   "source": [
    "# using polarity score classify them as +ve, -ve, neutral\n",
    "pnn = df['Polarity'].apply(lambda x: 'Positive' if x>0.05 else ('Negative' if x<=-0.05 else 'Neutral'))\n",
    "new_review = df['final_review']\n",
    "new_review = new_review.tolist()\n",
    "pnn = pnn.tolist()\n",
    "\n",
    "diction = {'text':new_review, 'Polarity':pnn}\n",
    "df1 = pd.DataFrame(diction)\n",
    "df1.head()"
   ]
  },
  {
   "cell_type": "code",
   "execution_count": 55,
   "metadata": {},
   "outputs": [],
   "source": [
    "#PN-positive/Negative based on polarity\n",
    "df['PN'] = df['Polarity'].apply(lambda x: 'Positive' if x>=0 else 'Negative')\n"
   ]
  },
  {
   "cell_type": "code",
   "execution_count": 57,
   "metadata": {},
   "outputs": [
    {
     "data": {
      "text/html": [
       "<div>\n",
       "<style scoped>\n",
       "    .dataframe tbody tr th:only-of-type {\n",
       "        vertical-align: middle;\n",
       "    }\n",
       "\n",
       "    .dataframe tbody tr th {\n",
       "        vertical-align: top;\n",
       "    }\n",
       "\n",
       "    .dataframe thead th {\n",
       "        text-align: right;\n",
       "    }\n",
       "</style>\n",
       "<table border=\"1\" class=\"dataframe\">\n",
       "  <thead>\n",
       "    <tr style=\"text-align: right;\">\n",
       "      <th></th>\n",
       "      <th>tweets</th>\n",
       "      <th>review</th>\n",
       "      <th>stemming</th>\n",
       "      <th>lemmatize</th>\n",
       "      <th>final_review</th>\n",
       "      <th>Polarity</th>\n",
       "      <th>Subjectivity</th>\n",
       "      <th>tokenize</th>\n",
       "      <th>PN</th>\n",
       "      <th>label</th>\n",
       "    </tr>\n",
       "  </thead>\n",
       "  <tbody>\n",
       "    <tr>\n",
       "      <th>0</th>\n",
       "      <td>6 big questions about new Omicron-targeting bo...</td>\n",
       "      <td>6 big questions about new Omicrontargeting boo...</td>\n",
       "      <td>6 big question about new omicrontarget booster...</td>\n",
       "      <td>6 big question about new Omicrontargeting boos...</td>\n",
       "      <td>6 big questions new Omicrontargeting boosters ...</td>\n",
       "      <td>0.068182</td>\n",
       "      <td>0.277273</td>\n",
       "      <td>[6, big, questions, new, Omicrontargeting, boo...</td>\n",
       "      <td>Positive</td>\n",
       "      <td>1</td>\n",
       "    </tr>\n",
       "    <tr>\n",
       "      <th>1</th>\n",
       "      <td>I'm confused https://t.co/NyfgdYUYAT</td>\n",
       "      <td>Im confused</td>\n",
       "      <td>im confus</td>\n",
       "      <td>Im confused</td>\n",
       "      <td>Im confused</td>\n",
       "      <td>-0.400000</td>\n",
       "      <td>0.700000</td>\n",
       "      <td>[Im, confused]</td>\n",
       "      <td>Negative</td>\n",
       "      <td>0</td>\n",
       "    </tr>\n",
       "    <tr>\n",
       "      <th>2</th>\n",
       "      <td>Long COVID less likely after Omicron than afte...</td>\n",
       "      <td>Long COVID less likely after Omicron than afte...</td>\n",
       "      <td>long covid less like after omicron than after ...</td>\n",
       "      <td>Long COVID le likely after Omicron than after ...</td>\n",
       "      <td>Long COVID less likely Omicron original virus ...</td>\n",
       "      <td>0.039583</td>\n",
       "      <td>0.554167</td>\n",
       "      <td>[Long, COVID, less, likely, Omicron, original,...</td>\n",
       "      <td>Positive</td>\n",
       "      <td>1</td>\n",
       "    </tr>\n",
       "    <tr>\n",
       "      <th>3</th>\n",
       "      <td>The finding don't tally with the high numbers ...</td>\n",
       "      <td>The finding dont tally with the high numbers w...</td>\n",
       "      <td>the find dont talli with the high number we se...</td>\n",
       "      <td>The finding dont tally with the high number we...</td>\n",
       "      <td>finding dont tally high numbers see bulletins ...</td>\n",
       "      <td>0.160000</td>\n",
       "      <td>0.540000</td>\n",
       "      <td>[finding, dont, tally, high, numbers, see, bul...</td>\n",
       "      <td>Positive</td>\n",
       "      <td>1</td>\n",
       "    </tr>\n",
       "    <tr>\n",
       "      <th>4</th>\n",
       "      <td>A conference abstract from the European Congre...</td>\n",
       "      <td>A conference abstract from the European Congre...</td>\n",
       "      <td>a confer abstract from the european congress o...</td>\n",
       "      <td>A conference abstract from the European Congre...</td>\n",
       "      <td>conference abstract European Congress Clinical...</td>\n",
       "      <td>-0.083333</td>\n",
       "      <td>0.033333</td>\n",
       "      <td>[conference, abstract, European, Congress, Cli...</td>\n",
       "      <td>Negative</td>\n",
       "      <td>0</td>\n",
       "    </tr>\n",
       "  </tbody>\n",
       "</table>\n",
       "</div>"
      ],
      "text/plain": [
       "                                              tweets  \\\n",
       "0  6 big questions about new Omicron-targeting bo...   \n",
       "1               I'm confused https://t.co/NyfgdYUYAT   \n",
       "2  Long COVID less likely after Omicron than afte...   \n",
       "3  The finding don't tally with the high numbers ...   \n",
       "4  A conference abstract from the European Congre...   \n",
       "\n",
       "                                              review  \\\n",
       "0  6 big questions about new Omicrontargeting boo...   \n",
       "1                                       Im confused    \n",
       "2  Long COVID less likely after Omicron than afte...   \n",
       "3  The finding dont tally with the high numbers w...   \n",
       "4  A conference abstract from the European Congre...   \n",
       "\n",
       "                                            stemming  \\\n",
       "0  6 big question about new omicrontarget booster...   \n",
       "1                                          im confus   \n",
       "2  long covid less like after omicron than after ...   \n",
       "3  the find dont talli with the high number we se...   \n",
       "4  a confer abstract from the european congress o...   \n",
       "\n",
       "                                           lemmatize  \\\n",
       "0  6 big question about new Omicrontargeting boos...   \n",
       "1                                        Im confused   \n",
       "2  Long COVID le likely after Omicron than after ...   \n",
       "3  The finding dont tally with the high number we...   \n",
       "4  A conference abstract from the European Congre...   \n",
       "\n",
       "                                        final_review  Polarity  Subjectivity  \\\n",
       "0  6 big questions new Omicrontargeting boosters ...  0.068182      0.277273   \n",
       "1                                        Im confused -0.400000      0.700000   \n",
       "2  Long COVID less likely Omicron original virus ...  0.039583      0.554167   \n",
       "3  finding dont tally high numbers see bulletins ...  0.160000      0.540000   \n",
       "4  conference abstract European Congress Clinical... -0.083333      0.033333   \n",
       "\n",
       "                                            tokenize        PN  label  \n",
       "0  [6, big, questions, new, Omicrontargeting, boo...  Positive      1  \n",
       "1                                     [Im, confused]  Negative      0  \n",
       "2  [Long, COVID, less, likely, Omicron, original,...  Positive      1  \n",
       "3  [finding, dont, tally, high, numbers, see, bul...  Positive      1  \n",
       "4  [conference, abstract, European, Congress, Cli...  Negative      0  "
      ]
     },
     "execution_count": 57,
     "metadata": {},
     "output_type": "execute_result"
    }
   ],
   "source": [
    "from sklearn.preprocessing import LabelBinarizer\n",
    "lb =LabelBinarizer()\n",
    "df['label'] = lb.fit_transform(df['PN'])\n",
    "df.head()"
   ]
  },
  {
   "cell_type": "code",
   "execution_count": 60,
   "metadata": {},
   "outputs": [],
   "source": [
    "# data split\n",
    "\n",
    "train_label = df.label[:5250]\n",
    "test_label = df.label[5250:]\n"
   ]
  },
  {
   "cell_type": "code",
   "execution_count": 61,
   "metadata": {},
   "outputs": [
    {
     "data": {
      "text/plain": [
       "(6998, 10)"
      ]
     },
     "execution_count": 61,
     "metadata": {},
     "output_type": "execute_result"
    }
   ],
   "source": [
    "df.shape"
   ]
  },
  {
   "cell_type": "code",
   "execution_count": 62,
   "metadata": {},
   "outputs": [],
   "source": [
    "#USing different models to evaluate the data"
   ]
  },
  {
   "cell_type": "markdown",
   "metadata": {},
   "source": [
    "- Logistic Regression"
   ]
  },
  {
   "cell_type": "code",
   "execution_count": 63,
   "metadata": {},
   "outputs": [
    {
     "name": "stdout",
     "output_type": "stream",
     "text": [
      "LogisticRegression(C=1, max_iter=500, random_state=42)\n",
      "LogisticRegression(C=1, max_iter=500, random_state=42)\n"
     ]
    }
   ],
   "source": [
    "from sklearn.linear_model import LogisticRegression\n",
    "lr = LogisticRegression(penalty='l2',max_iter=500, C=1, random_state=42)\n",
    "lr_bow = lr.fit(cv_train, train_label)\n",
    "lr_tfidf = lr.fit(tf_train, train_label)\n",
    "print(lr_bow)\n",
    "print(lr_tfidf)"
   ]
  },
  {
   "cell_type": "code",
   "execution_count": 64,
   "metadata": {},
   "outputs": [
    {
     "data": {
      "text/plain": [
       "((1748,), (1748,))"
      ]
     },
     "execution_count": 64,
     "metadata": {},
     "output_type": "execute_result"
    }
   ],
   "source": [
    "lr_bow_predict = lr.predict(cv_test)\n",
    "lr_tfidf_predict = lr.predict(tf_test)\n",
    "lr_bow_predict.shape, lr_tfidf_predict.shape"
   ]
  },
  {
   "cell_type": "code",
   "execution_count": 65,
   "metadata": {},
   "outputs": [
    {
     "data": {
      "text/plain": [
       "array([[0, 0, 0, ..., 0, 0, 0]], dtype=int64)"
      ]
     },
     "execution_count": 65,
     "metadata": {},
     "output_type": "execute_result"
    }
   ],
   "source": [
    "cv_test[0].toarray()\n"
   ]
  },
  {
   "cell_type": "code",
   "execution_count": 67,
   "metadata": {},
   "outputs": [
    {
     "data": {
      "text/html": [
       "<div>\n",
       "<style scoped>\n",
       "    .dataframe tbody tr th:only-of-type {\n",
       "        vertical-align: middle;\n",
       "    }\n",
       "\n",
       "    .dataframe tbody tr th {\n",
       "        vertical-align: top;\n",
       "    }\n",
       "\n",
       "    .dataframe thead th {\n",
       "        text-align: right;\n",
       "    }\n",
       "</style>\n",
       "<table border=\"1\" class=\"dataframe\">\n",
       "  <thead>\n",
       "    <tr style=\"text-align: right;\">\n",
       "      <th></th>\n",
       "      <th>text</th>\n",
       "      <th>test</th>\n",
       "      <th>bow</th>\n",
       "      <th>tfidf</th>\n",
       "    </tr>\n",
       "  </thead>\n",
       "  <tbody>\n",
       "    <tr>\n",
       "      <th>5250</th>\n",
       "      <td>@Omicron_Male .LUN CHASE AR</td>\n",
       "      <td>1</td>\n",
       "      <td>1</td>\n",
       "      <td>1</td>\n",
       "    </tr>\n",
       "    <tr>\n",
       "      <th>5251</th>\n",
       "      <td>@jsm2334 @drepanocyte @USMortality Not all sar...</td>\n",
       "      <td>1</td>\n",
       "      <td>1</td>\n",
       "      <td>1</td>\n",
       "    </tr>\n",
       "    <tr>\n",
       "      <th>5252</th>\n",
       "      <td>@Turnajon Haven’t heard anything. Just Omicron...</td>\n",
       "      <td>1</td>\n",
       "      <td>1</td>\n",
       "      <td>1</td>\n",
       "    </tr>\n",
       "    <tr>\n",
       "      <th>5253</th>\n",
       "      <td>@dgurdasani1 i dont think so. lockdowns were d...</td>\n",
       "      <td>0</td>\n",
       "      <td>1</td>\n",
       "      <td>1</td>\n",
       "    </tr>\n",
       "    <tr>\n",
       "      <th>5254</th>\n",
       "      <td>OMICRON CU2-REV-1.01-JE109030 PCB CARD\\nMarine...</td>\n",
       "      <td>1</td>\n",
       "      <td>1</td>\n",
       "      <td>1</td>\n",
       "    </tr>\n",
       "  </tbody>\n",
       "</table>\n",
       "</div>"
      ],
      "text/plain": [
       "                                                   text  test  bow  tfidf\n",
       "5250                        @Omicron_Male .LUN CHASE AR     1    1      1\n",
       "5251  @jsm2334 @drepanocyte @USMortality Not all sar...     1    1      1\n",
       "5252  @Turnajon Haven’t heard anything. Just Omicron...     1    1      1\n",
       "5253  @dgurdasani1 i dont think so. lockdowns were d...     0    1      1\n",
       "5254  OMICRON CU2-REV-1.01-JE109030 PCB CARD\\nMarine...     1    1      1"
      ]
     },
     "execution_count": 67,
     "metadata": {},
     "output_type": "execute_result"
    }
   ],
   "source": [
    "text = df['tweets'][5250:].tolist()\n",
    "dict ={'text':text, 'test':test_label, 'bow':lr_bow_predict, 'tfidf': lr_tfidf_predict}\n",
    "df2 = pd.DataFrame(dict)\n",
    "df2.head()"
   ]
  },
  {
   "cell_type": "code",
   "execution_count": 70,
   "metadata": {},
   "outputs": [
    {
     "data": {
      "text/plain": [
       "text     362\n",
       "test     362\n",
       "bow      362\n",
       "tfidf    362\n",
       "dtype: int64"
      ]
     },
     "execution_count": 70,
     "metadata": {},
     "output_type": "execute_result"
    }
   ],
   "source": [
    "df2[df2['test']!=df2['bow']].count()"
   ]
  },
  {
   "cell_type": "code",
   "execution_count": 71,
   "metadata": {},
   "outputs": [
    {
     "data": {
      "text/plain": [
       "text     399\n",
       "test     399\n",
       "bow      399\n",
       "tfidf    399\n",
       "dtype: int64"
      ]
     },
     "execution_count": 71,
     "metadata": {},
     "output_type": "execute_result"
    }
   ],
   "source": [
    "df2[df2['test']!=df2['tfidf']].count()"
   ]
  },
  {
   "cell_type": "code",
   "execution_count": 107,
   "metadata": {},
   "outputs": [
    {
     "name": "stdout",
     "output_type": "stream",
     "text": [
      "BOW 0.7929061784897025\n",
      "TFIDF 0.7717391304347826\n"
     ]
    }
   ],
   "source": [
    "# accuracy\n",
    "from sklearn.metrics import accuracy_score, classification_report, confusion_matrix\n",
    "lr_bow_score = accuracy_score(test_label, lr_bow_predict)\n",
    "lr_tfidf_score = accuracy_score(test_label, lr_tfidf_predict)\n",
    "print('BOW',lr_bow_score)\n",
    "print('TFIDF',lr_tfidf_score)"
   ]
  },
  {
   "cell_type": "code",
   "execution_count": 75,
   "metadata": {},
   "outputs": [
    {
     "name": "stdout",
     "output_type": "stream",
     "text": [
      "              precision    recall  f1-score   support\n",
      "\n",
      "    Positive       0.86      0.11      0.20       399\n",
      "    Negative       0.79      0.99      0.88      1349\n",
      "\n",
      "    accuracy                           0.79      1748\n",
      "   macro avg       0.83      0.55      0.54      1748\n",
      "weighted avg       0.81      0.79      0.72      1748\n",
      "\n",
      "----------------------------------------------------------------\n",
      "              precision    recall  f1-score   support\n",
      "\n",
      "    Positive       0.00      0.00      0.00       399\n",
      "    Negative       0.77      1.00      0.87      1349\n",
      "\n",
      "    accuracy                           0.77      1748\n",
      "   macro avg       0.39      0.50      0.44      1748\n",
      "weighted avg       0.60      0.77      0.67      1748\n",
      "\n"
     ]
    }
   ],
   "source": [
    "# Classification report\n",
    "lr_bow_class = classification_report(test_label, lr_bow_predict, target_names=['Positive','Negative'])\n",
    "lr_tfidf_class = classification_report(test_label,lr_tfidf_predict, target_names=['Positive','Negative'])\n",
    "print(lr_bow_class)\n",
    "print('----------------------------------------------------------------')\n",
    "print(lr_tfidf_class)"
   ]
  },
  {
   "cell_type": "code",
   "execution_count": 106,
   "metadata": {},
   "outputs": [
    {
     "name": "stdout",
     "output_type": "stream",
     "text": [
      "BOW [[  44  355]\n",
      " [   7 1342]]\n"
     ]
    }
   ],
   "source": [
    "cm_bow =confusion_matrix(test_label, lr_bow_predict)\n",
    "cm_tfidf = confusion_matrix(test_label, lr_tfidf_predict)\n",
    "print('BOW',cm_bow)"
   ]
  },
  {
   "cell_type": "code",
   "execution_count": 105,
   "metadata": {},
   "outputs": [
    {
     "name": "stdout",
     "output_type": "stream",
     "text": [
      "TFIDF [[  34  365]\n",
      " [   3 1346]]\n"
     ]
    }
   ],
   "source": [
    "print('TFIDF',cm_tfidf)"
   ]
  },
  {
   "cell_type": "markdown",
   "metadata": {},
   "source": [
    "- SVM"
   ]
  },
  {
   "cell_type": "code",
   "execution_count": 81,
   "metadata": {},
   "outputs": [],
   "source": [
    "from sklearn.svm import SVC\n",
    "svm = SVC(kernel='linear', random_state=42, C=1)\n",
    "svm_bow = svm.fit(cv_train, train_label)\n",
    "svm_tfidf = svm.fit(tf_train, train_label)\n"
   ]
  },
  {
   "cell_type": "code",
   "execution_count": 104,
   "metadata": {},
   "outputs": [
    {
     "name": "stdout",
     "output_type": "stream",
     "text": [
      "BOW 0.7911899313501144\n",
      "TFIDF 0.7894736842105263\n"
     ]
    }
   ],
   "source": [
    "svm_bow_predict = svm.predict(cv_test)\n",
    "svm_tfidf_predict = svm.predict(tf_test)\n",
    "svm_bow_score = accuracy_score(test_label,svm_bow_predict)\n",
    "svm_tfidf_score = accuracy_score(test_label, svm_tfidf_predict)\n",
    "print('BOW',svm_bow_score)\n",
    "print('TFIDF',svm_tfidf_score)"
   ]
  },
  {
   "cell_type": "code",
   "execution_count": 85,
   "metadata": {},
   "outputs": [
    {
     "name": "stdout",
     "output_type": "stream",
     "text": [
      "              precision    recall  f1-score   support\n",
      "\n",
      "    Positive       0.72      0.14      0.23       399\n",
      "    Negative       0.79      0.98      0.88      1349\n",
      "\n",
      "    accuracy                           0.79      1748\n",
      "   macro avg       0.76      0.56      0.56      1748\n",
      "weighted avg       0.78      0.79      0.73      1748\n",
      "\n",
      "----------------------------------------------------------------\n",
      "              precision    recall  f1-score   support\n",
      "\n",
      "    Positive       0.92      0.09      0.16       399\n",
      "    Negative       0.79      1.00      0.88      1349\n",
      "\n",
      "    accuracy                           0.79      1748\n",
      "   macro avg       0.85      0.54      0.52      1748\n",
      "weighted avg       0.82      0.79      0.71      1748\n",
      "\n"
     ]
    }
   ],
   "source": [
    "svm_bow_report = classification_report(test_label,svm_bow_predict,target_names=['Positive','Negative'])\n",
    "print(svm_bow_report)\n",
    "print('----------------------------------------------------------------')\n",
    "svm_tfidf_report = classification_report(test_label,svm_tfidf_predict,target_names=['Positive','Negative'])\n",
    "print(svm_tfidf_report)"
   ]
  },
  {
   "cell_type": "code",
   "execution_count": 103,
   "metadata": {},
   "outputs": [
    {
     "name": "stdout",
     "output_type": "stream",
     "text": [
      "BOW [[  56  343]\n",
      " [  22 1327]]\n"
     ]
    }
   ],
   "source": [
    "cm_bow = confusion_matrix(test_label, svm_bow_predict)\n",
    "print('BOW',cm_bow)"
   ]
  },
  {
   "cell_type": "code",
   "execution_count": 102,
   "metadata": {},
   "outputs": [
    {
     "name": "stdout",
     "output_type": "stream",
     "text": [
      "TFIDF\n",
      "[[  34  365]\n",
      " [   3 1346]]\n"
     ]
    }
   ],
   "source": [
    "cm_tfidf = confusion_matrix(test_label,svm_tfidf_predict)\n",
    "print(\"TFIDF\")\n",
    "print(cm_tfidf)"
   ]
  },
  {
   "cell_type": "markdown",
   "metadata": {},
   "source": [
    "- KNN"
   ]
  },
  {
   "cell_type": "code",
   "execution_count": 100,
   "metadata": {},
   "outputs": [
    {
     "name": "stdout",
     "output_type": "stream",
     "text": [
      "BOW 0.7711670480549199\n",
      "TFIDF 0.7717391304347826\n"
     ]
    }
   ],
   "source": [
    "from sklearn.neighbors import KNeighborsClassifier\n",
    "knn = KNeighborsClassifier()\n",
    "knn_bow = knn.fit(cv_train, train_label)\n",
    "knn_tf = knn.fit(cv_train, train_label)\n",
    "knn_bow_predict = knn.predict(cv_test)\n",
    "knn_tf_predict = knn.predict(tf_test)\n",
    "knn_bow_score = accuracy_score(knn_bow_predict, test_label)\n",
    "knn_tf_score = accuracy_score(knn_tf_predict, test_label)\n",
    "print('BOW',knn_bow_score)\n",
    "print('TFIDF',knn_tf_score)"
   ]
  },
  {
   "cell_type": "code",
   "execution_count": 90,
   "metadata": {},
   "outputs": [
    {
     "name": "stdout",
     "output_type": "stream",
     "text": [
      "              precision    recall  f1-score   support\n",
      "\n",
      "    Positive       0.00      0.00      0.00       399\n",
      "    Negative       0.77      1.00      0.87      1349\n",
      "\n",
      "    accuracy                           0.77      1748\n",
      "   macro avg       0.39      0.50      0.44      1748\n",
      "weighted avg       0.60      0.77      0.67      1748\n",
      "\n",
      "----------------------------------------------------------\n",
      "              precision    recall  f1-score   support\n",
      "\n",
      "    Positive       0.00      0.00      0.00       399\n",
      "    Negative       0.77      1.00      0.87      1349\n",
      "\n",
      "    accuracy                           0.77      1748\n",
      "   macro avg       0.39      0.50      0.44      1748\n",
      "weighted avg       0.60      0.77      0.67      1748\n",
      "\n"
     ]
    }
   ],
   "source": [
    "knn_bow_report = classification_report(test_label,knn_bow_predict,target_names=['Positive','Negative'])\n",
    "print(knn_bow_report)\n",
    "print('----------------------------------------------------------')\n",
    "knn_tfidf_report = classification_report(test_label,knn_tf_predict,target_names=['Positive','Negative'])\n",
    "print(knn_tfidf_report)"
   ]
  },
  {
   "cell_type": "code",
   "execution_count": 99,
   "metadata": {},
   "outputs": [
    {
     "name": "stdout",
     "output_type": "stream",
     "text": [
      "BOW\n",
      "[[   0  399]\n",
      " [   1 1348]]\n",
      "TFIDF\n",
      "[[   0  399]\n",
      " [   0 1349]]\n"
     ]
    }
   ],
   "source": [
    "cm_bow = confusion_matrix(test_label,knn_bow_predict,labels=[0,1])\n",
    "print('BOW')\n",
    "print(cm_bow)\n",
    "cm_tfidf = confusion_matrix(test_label,knn_tf_predict,labels=[0,1])\n",
    "print('TFIDF')\n",
    "print(cm_tfidf)"
   ]
  },
  {
   "cell_type": "markdown",
   "metadata": {},
   "source": [
    "- Decision Tree"
   ]
  },
  {
   "cell_type": "code",
   "execution_count": 98,
   "metadata": {},
   "outputs": [
    {
     "name": "stdout",
     "output_type": "stream",
     "text": [
      "BOW 0.7717391304347826\n",
      "TFIDF 0.7717391304347826\n"
     ]
    }
   ],
   "source": [
    "from sklearn.tree import DecisionTreeClassifier\n",
    "dtc = DecisionTreeClassifier(criterion='entropy', max_depth=4)\n",
    "dtc_bow = dtc.fit(cv_train, train_label)\n",
    "dtc_tfidf = dtc.fit(tf_train, train_label)\n",
    "dtc_bow_predict = dtc.predict(cv_test)\n",
    "dtc_tfidf_predict = dtc.predict(tf_test)\n",
    "dtc_bow_score = accuracy_score(dtc_bow_predict, test_label)\n",
    "dtc_tfidf_score = accuracy_score(dtc_tfidf_predict, test_label)\n",
    "print('BOW',dtc_bow_score)\n",
    "print('TFIDF',dtc_tfidf_score)"
   ]
  },
  {
   "cell_type": "code",
   "execution_count": 97,
   "metadata": {},
   "outputs": [
    {
     "name": "stdout",
     "output_type": "stream",
     "text": [
      "bow\n",
      "[[   0  399]\n",
      " [   0 1349]]\n",
      "tfidf\n",
      "[[   0  399]\n",
      " [   0 1349]]\n"
     ]
    }
   ],
   "source": [
    "cm_bow = confusion_matrix(test_label,dtc_bow_predict,labels=[0,1])\n",
    "print('bow')\n",
    "print(cm_bow)\n",
    "cm_tfidf = confusion_matrix(test_label,dtc_tfidf_predict,labels=[0,1])\n",
    "print(\"tfidf\")\n",
    "print(cm_tfidf)"
   ]
  },
  {
   "cell_type": "markdown",
   "metadata": {},
   "source": [
    "# Conclusion"
   ]
  },
  {
   "cell_type": "markdown",
   "metadata": {},
   "source": [
    "# Classification Metrics for Different Models and Vectorization Methods\n",
    "\n",
    "In this analysis, we evaluate the performance of different machine learning models using two vectorization methods: **Bag of Words (BOW)** and **Term Frequency-Inverse Document Frequency (TFIDF)**. The models considered are **Logistic Regression**, **Support Vector Machine (SVM)**, **K-Nearest Neighbors (KNN)**, and **Decision Tree**.\n",
    "\n",
    "## Classification Metrics Table\n",
    "\n",
    "| Model               | Vectorization | Accuracy | True Negative (TN) | False Positive (FP) | False Negative (FN) | True Positive (TP) |\n",
    "|---------------------|---------------|----------|--------------------|---------------------|---------------------|--------------------|\n",
    "| **Logistic Regression** | BOW           | 0.7929   | 44                 | 355                 | 7                   | 1342               |\n",
    "|                     | TFIDF         | 0.7717   | 34                 | 365                 | 3                   | 1346               |\n",
    "| **SVM**             | BOW           | 0.7912   | 56                 | 343                 | 22                  | 1327               |\n",
    "|                     | TFIDF         | 0.7895   | 34                 | 365                 | 3                   | 1346               |\n",
    "| **KNN**             | BOW           | 0.7712   | 0                  | 399                 | 1                   | 1348               |\n",
    "|                     | TFIDF         | 0.7717   | 0                  | 399                 | 0                   | 1349               |\n",
    "| **Decision Tree**   | BOW           | 0.7717   | 0                  | 399                 | 0                   | 1349               |\n",
    "|                     | TFIDF         | 0.7717   | 0                  | 399                 | 0                   | 1349               |\n",
    "\n",
    "---\n",
    "\n",
    "\n",
    "From the results, we can make the following observations:\n",
    "\n",
    "- **Accuracy Comparison**:\n",
    "  - Logistic Regression consistently outperforms other models with the highest accuracy of 0.7929 when using the BOW vectorization method.\n",
    "  - KNN and Decision Tree show similar accuracy values around 0.7717, which are slightly lower compared to Logistic Regression.\n",
    "  - SVM provides competitive results, but with slightly lower accuracy than Logistic Regression.\n",
    "\n",
    "- **Confusion Matrix Insights**:\n",
    "  - For most models and vectorization methods, the number of false positives (the first element in each row) is significantly higher than false negatives (the second element). This indicates that while the models are good at predicting the positive class, there are still some misclassifications of negative instances.\n",
    "\n",
    "- **Effect of Vectorization**:\n",
    "  - The change from BOW to TFIDF generally does not lead to significant improvements or degradations in accuracy for most models, except for Logistic Regression, which shows a slight drop in performance with TFIDF.\n",
    "\n",
    "In conclusion, **Logistic Regression with BOW** appears to be the best-performing combination for this classification task, while other models like **KNN** and **SVM** perform similarly in terms of accuracy but slightly lower than Logistic Regression. The TFIDF vectorization method does not significantly outperform BOW for the majority of models.\n"
   ]
  },
  {
   "cell_type": "code",
   "execution_count": null,
   "metadata": {},
   "outputs": [],
   "source": []
  }
 ],
 "metadata": {
  "kernelspec": {
   "display_name": "Python 3 (ipykernel)",
   "language": "python",
   "name": "python3"
  },
  "language_info": {
   "codemirror_mode": {
    "name": "ipython",
    "version": 3
   },
   "file_extension": ".py",
   "mimetype": "text/x-python",
   "name": "python",
   "nbconvert_exporter": "python",
   "pygments_lexer": "ipython3",
   "version": "3.11.4"
  }
 },
 "nbformat": 4,
 "nbformat_minor": 4
}
